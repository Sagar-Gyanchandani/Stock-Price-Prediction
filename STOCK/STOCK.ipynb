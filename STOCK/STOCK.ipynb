{
 "cells": [
  {
   "cell_type": "markdown",
   "metadata": {},
   "source": [
    "# Data Collection"
   ]
  },
  {
   "cell_type": "code",
   "execution_count": 1,
   "metadata": {},
   "outputs": [],
   "source": [
    "# pip install pandas-datareader\n",
    "import pandas_datareader as pdr"
   ]
  },
  {
   "cell_type": "code",
   "execution_count": 2,
   "metadata": {},
   "outputs": [],
   "source": [
    "# Get your API key at \"https://api.tiingo.com/documentation/general/overview\"\n",
    "df = pdr.get_data_tiingo('AAPL', api_key='key')"
   ]
  },
  {
   "cell_type": "code",
   "execution_count": 3,
   "metadata": {},
   "outputs": [],
   "source": [
    "df.to_csv('AAPL.csv')"
   ]
  },
  {
   "cell_type": "code",
   "execution_count": 4,
   "metadata": {},
   "outputs": [
    {
     "data": {
      "text/html": [
       "<div>\n",
       "<style scoped>\n",
       "    .dataframe tbody tr th:only-of-type {\n",
       "        vertical-align: middle;\n",
       "    }\n",
       "\n",
       "    .dataframe tbody tr th {\n",
       "        vertical-align: top;\n",
       "    }\n",
       "\n",
       "    .dataframe thead th {\n",
       "        text-align: right;\n",
       "    }\n",
       "</style>\n",
       "<table border=\"1\" class=\"dataframe\">\n",
       "  <thead>\n",
       "    <tr style=\"text-align: right;\">\n",
       "      <th></th>\n",
       "      <th></th>\n",
       "      <th>adjClose</th>\n",
       "      <th>adjHigh</th>\n",
       "      <th>adjLow</th>\n",
       "      <th>adjOpen</th>\n",
       "      <th>adjVolume</th>\n",
       "      <th>close</th>\n",
       "      <th>divCash</th>\n",
       "      <th>high</th>\n",
       "      <th>low</th>\n",
       "      <th>open</th>\n",
       "      <th>splitFactor</th>\n",
       "      <th>volume</th>\n",
       "    </tr>\n",
       "    <tr>\n",
       "      <th>symbol</th>\n",
       "      <th>date</th>\n",
       "      <th></th>\n",
       "      <th></th>\n",
       "      <th></th>\n",
       "      <th></th>\n",
       "      <th></th>\n",
       "      <th></th>\n",
       "      <th></th>\n",
       "      <th></th>\n",
       "      <th></th>\n",
       "      <th></th>\n",
       "      <th></th>\n",
       "      <th></th>\n",
       "    </tr>\n",
       "  </thead>\n",
       "  <tbody>\n",
       "    <tr>\n",
       "      <th rowspan=\"5\" valign=\"top\">AAPL</th>\n",
       "      <th>2015-12-30 00:00:00+00:00</th>\n",
       "      <td>24.854087</td>\n",
       "      <td>25.173679</td>\n",
       "      <td>24.821664</td>\n",
       "      <td>25.145888</td>\n",
       "      <td>100855108</td>\n",
       "      <td>107.32</td>\n",
       "      <td>0.0</td>\n",
       "      <td>108.700</td>\n",
       "      <td>107.18</td>\n",
       "      <td>108.58</td>\n",
       "      <td>1.0</td>\n",
       "      <td>25213777</td>\n",
       "    </tr>\n",
       "    <tr>\n",
       "      <th>2015-12-31 00:00:00+00:00</th>\n",
       "      <td>24.377014</td>\n",
       "      <td>24.786926</td>\n",
       "      <td>24.275115</td>\n",
       "      <td>24.782294</td>\n",
       "      <td>163649264</td>\n",
       "      <td>105.26</td>\n",
       "      <td>0.0</td>\n",
       "      <td>107.030</td>\n",
       "      <td>104.82</td>\n",
       "      <td>107.01</td>\n",
       "      <td>1.0</td>\n",
       "      <td>40912316</td>\n",
       "    </tr>\n",
       "    <tr>\n",
       "      <th>2016-01-04 00:00:00+00:00</th>\n",
       "      <td>24.397857</td>\n",
       "      <td>24.402026</td>\n",
       "      <td>23.622035</td>\n",
       "      <td>23.763304</td>\n",
       "      <td>270597548</td>\n",
       "      <td>105.35</td>\n",
       "      <td>0.0</td>\n",
       "      <td>105.368</td>\n",
       "      <td>102.00</td>\n",
       "      <td>102.61</td>\n",
       "      <td>1.0</td>\n",
       "      <td>67649387</td>\n",
       "    </tr>\n",
       "    <tr>\n",
       "      <th>2016-01-05 00:00:00+00:00</th>\n",
       "      <td>23.786463</td>\n",
       "      <td>24.513651</td>\n",
       "      <td>23.716987</td>\n",
       "      <td>24.490493</td>\n",
       "      <td>223163968</td>\n",
       "      <td>102.71</td>\n",
       "      <td>0.0</td>\n",
       "      <td>105.850</td>\n",
       "      <td>102.41</td>\n",
       "      <td>105.75</td>\n",
       "      <td>1.0</td>\n",
       "      <td>55790992</td>\n",
       "    </tr>\n",
       "    <tr>\n",
       "      <th>2016-01-06 00:00:00+00:00</th>\n",
       "      <td>23.320970</td>\n",
       "      <td>23.707723</td>\n",
       "      <td>23.128752</td>\n",
       "      <td>23.288548</td>\n",
       "      <td>273829552</td>\n",
       "      <td>100.70</td>\n",
       "      <td>0.0</td>\n",
       "      <td>102.370</td>\n",
       "      <td>99.87</td>\n",
       "      <td>100.56</td>\n",
       "      <td>1.0</td>\n",
       "      <td>68457388</td>\n",
       "    </tr>\n",
       "  </tbody>\n",
       "</table>\n",
       "</div>"
      ],
      "text/plain": [
       "                                   adjClose    adjHigh     adjLow    adjOpen  \\\n",
       "symbol date                                                                    \n",
       "AAPL   2015-12-30 00:00:00+00:00  24.854087  25.173679  24.821664  25.145888   \n",
       "       2015-12-31 00:00:00+00:00  24.377014  24.786926  24.275115  24.782294   \n",
       "       2016-01-04 00:00:00+00:00  24.397857  24.402026  23.622035  23.763304   \n",
       "       2016-01-05 00:00:00+00:00  23.786463  24.513651  23.716987  24.490493   \n",
       "       2016-01-06 00:00:00+00:00  23.320970  23.707723  23.128752  23.288548   \n",
       "\n",
       "                                  adjVolume   close  divCash     high     low  \\\n",
       "symbol date                                                                     \n",
       "AAPL   2015-12-30 00:00:00+00:00  100855108  107.32      0.0  108.700  107.18   \n",
       "       2015-12-31 00:00:00+00:00  163649264  105.26      0.0  107.030  104.82   \n",
       "       2016-01-04 00:00:00+00:00  270597548  105.35      0.0  105.368  102.00   \n",
       "       2016-01-05 00:00:00+00:00  223163968  102.71      0.0  105.850  102.41   \n",
       "       2016-01-06 00:00:00+00:00  273829552  100.70      0.0  102.370   99.87   \n",
       "\n",
       "                                    open  splitFactor    volume  \n",
       "symbol date                                                      \n",
       "AAPL   2015-12-30 00:00:00+00:00  108.58          1.0  25213777  \n",
       "       2015-12-31 00:00:00+00:00  107.01          1.0  40912316  \n",
       "       2016-01-04 00:00:00+00:00  102.61          1.0  67649387  \n",
       "       2016-01-05 00:00:00+00:00  105.75          1.0  55790992  \n",
       "       2016-01-06 00:00:00+00:00  100.56          1.0  68457388  "
      ]
     },
     "execution_count": 4,
     "metadata": {},
     "output_type": "execute_result"
    }
   ],
   "source": [
    "df.head()"
   ]
  },
  {
   "cell_type": "code",
   "execution_count": 5,
   "metadata": {},
   "outputs": [],
   "source": [
    "df1=df.reset_index()['close']"
   ]
  },
  {
   "cell_type": "code",
   "execution_count": 6,
   "metadata": {},
   "outputs": [
    {
     "data": {
      "text/plain": [
       "0       107.320\n",
       "1       105.260\n",
       "2       105.350\n",
       "3       102.710\n",
       "4       100.700\n",
       "5        96.450\n",
       "6        96.960\n",
       "7        98.530\n",
       "8        99.960\n",
       "9        97.390\n",
       "10       99.520\n",
       "11       97.130\n",
       "12       96.660\n",
       "13       96.790\n",
       "14       96.300\n",
       "15      101.420\n",
       "16       99.440\n",
       "17       99.990\n",
       "18       93.420\n",
       "19       94.090\n",
       "20       97.340\n",
       "21       96.430\n",
       "22       94.480\n",
       "23       96.350\n",
       "24       96.600\n",
       "25       94.020\n",
       "26       95.010\n",
       "27       94.990\n",
       "28       94.270\n",
       "29       93.700\n",
       "         ...   \n",
       "1227    119.210\n",
       "1228    119.260\n",
       "1229    120.300\n",
       "1230    119.390\n",
       "1231    118.030\n",
       "1232    118.640\n",
       "1233    117.340\n",
       "1234    113.850\n",
       "1235    115.170\n",
       "1236    116.030\n",
       "1237    116.590\n",
       "1238    119.050\n",
       "1239    122.720\n",
       "1240    123.080\n",
       "1241    122.940\n",
       "1242    122.250\n",
       "1243    123.750\n",
       "1244    124.380\n",
       "1245    121.780\n",
       "1246    123.240\n",
       "1247    122.410\n",
       "1248    121.780\n",
       "1249    127.880\n",
       "1250    127.810\n",
       "1251    128.700\n",
       "1252    126.655\n",
       "1253    128.230\n",
       "1254    131.880\n",
       "1255    130.960\n",
       "1256    131.970\n",
       "Name: close, Length: 1257, dtype: float64"
      ]
     },
     "execution_count": 6,
     "metadata": {},
     "output_type": "execute_result"
    }
   ],
   "source": [
    "df1"
   ]
  },
  {
   "cell_type": "code",
   "execution_count": 7,
   "metadata": {},
   "outputs": [
    {
     "data": {
      "text/plain": [
       "<Figure size 640x480 with 1 Axes>"
      ]
     },
     "metadata": {},
     "output_type": "display_data"
    }
   ],
   "source": [
    "import matplotlib.pyplot as plt\n",
    "plt.plot(df1)\n",
    "plt.show()"
   ]
  },
  {
   "cell_type": "code",
   "execution_count": 8,
   "metadata": {},
   "outputs": [],
   "source": [
    "import numpy as np"
   ]
  },
  {
   "cell_type": "code",
   "execution_count": 9,
   "metadata": {},
   "outputs": [],
   "source": [
    "from sklearn.preprocessing import MinMaxScaler\n",
    "scaler = MinMaxScaler(feature_range=(0,1))\n",
    "df1=scaler.fit_transform(np.array(df1).reshape(-1,1))"
   ]
  },
  {
   "cell_type": "code",
   "execution_count": 10,
   "metadata": {},
   "outputs": [
    {
     "data": {
      "text/plain": [
       "array([[0.04084185],\n",
       "       [0.03588695],\n",
       "       [0.03610343],\n",
       "       ...,\n",
       "       [0.09991581],\n",
       "       [0.09770295],\n",
       "       [0.10013229]])"
      ]
     },
     "execution_count": 10,
     "metadata": {},
     "output_type": "execute_result"
    }
   ],
   "source": [
    "df1"
   ]
  },
  {
   "cell_type": "markdown",
   "metadata": {},
   "source": [
    "# Data Preprocessing"
   ]
  },
  {
   "cell_type": "markdown",
   "metadata": {},
   "source": [
    "Split data into tain and test test"
   ]
  },
  {
   "cell_type": "code",
   "execution_count": 11,
   "metadata": {},
   "outputs": [],
   "source": [
    "training_size = int(len(df1)*0.65)\n",
    "test_size = len(df1)-training_size\n",
    "train_data, test_data = df1[0:training_size, :], df1[training_size:len(df1),:1]"
   ]
  },
  {
   "cell_type": "code",
   "execution_count": 12,
   "metadata": {},
   "outputs": [],
   "source": [
    "def create_dataset(dataset, time_step=1):\n",
    "    dataX, dataY = [], []\n",
    "    for i in range(len(dataset)-time_step-1):\n",
    "        a = dataset[i:(i+time_step), 0]\n",
    "        dataX.append(a)\n",
    "        dataY.append(dataset[i+time_step,0])\n",
    "    return np.array(dataX), np.array(dataY)"
   ]
  },
  {
   "cell_type": "code",
   "execution_count": 13,
   "metadata": {},
   "outputs": [],
   "source": [
    "time_step=100\n",
    "X_train, y_train = create_dataset(train_data, time_step)\n",
    "X_test, y_test = create_dataset(test_data, time_step)"
   ]
  },
  {
   "cell_type": "code",
   "execution_count": 14,
   "metadata": {},
   "outputs": [
    {
     "data": {
      "text/plain": [
       "((716, 100), (716,))"
      ]
     },
     "execution_count": 14,
     "metadata": {},
     "output_type": "execute_result"
    }
   ],
   "source": [
    "X_train.shape, y_train.shape"
   ]
  },
  {
   "cell_type": "code",
   "execution_count": 15,
   "metadata": {},
   "outputs": [
    {
     "data": {
      "text/plain": [
       "((339, 100), (339,))"
      ]
     },
     "execution_count": 15,
     "metadata": {},
     "output_type": "execute_result"
    }
   ],
   "source": [
    "X_test.shape, y_test.shape"
   ]
  },
  {
   "cell_type": "code",
   "execution_count": 16,
   "metadata": {},
   "outputs": [],
   "source": [
    "# reshape inputs to be [sanples, time_steps, features] which is required for LSTM\n",
    "X_train = X_train.reshape(X_train.shape[0],X_train.shape[1],1)\n",
    "X_test = X_test.reshape(X_test.shape[0],X_test.shape[1],1)"
   ]
  },
  {
   "cell_type": "code",
   "execution_count": 17,
   "metadata": {},
   "outputs": [
    {
     "data": {
      "text/plain": [
       "(716, 100, 1)"
      ]
     },
     "execution_count": 17,
     "metadata": {},
     "output_type": "execute_result"
    }
   ],
   "source": [
    "X_train.shape"
   ]
  },
  {
   "cell_type": "markdown",
   "metadata": {},
   "source": [
    "# Stack LSTM Model"
   ]
  },
  {
   "cell_type": "code",
   "execution_count": 18,
   "metadata": {},
   "outputs": [],
   "source": [
    "from tensorflow.keras.models import Sequential\n",
    "from tensorflow.keras.layers import Dense\n",
    "from tensorflow.keras.layers import LSTM"
   ]
  },
  {
   "cell_type": "code",
   "execution_count": 19,
   "metadata": {},
   "outputs": [],
   "source": [
    "model = Sequential()\n",
    "model.add(LSTM(50, return_sequences=True, input_shape=(100,1)))\n",
    "model.add(LSTM(50, return_sequences=True))\n",
    "model.add(LSTM(50))\n",
    "model.add(Dense(1))\n",
    "model.compile(loss='mean_squared_error', optimizer='adam')"
   ]
  },
  {
   "cell_type": "code",
   "execution_count": 20,
   "metadata": {},
   "outputs": [
    {
     "name": "stdout",
     "output_type": "stream",
     "text": [
      "Model: \"sequential\"\n",
      "_________________________________________________________________\n",
      "Layer (type)                 Output Shape              Param #   \n",
      "=================================================================\n",
      "lstm (LSTM)                  (None, 100, 50)           10400     \n",
      "_________________________________________________________________\n",
      "lstm_1 (LSTM)                (None, 100, 50)           20200     \n",
      "_________________________________________________________________\n",
      "lstm_2 (LSTM)                (None, 50)                20200     \n",
      "_________________________________________________________________\n",
      "dense (Dense)                (None, 1)                 51        \n",
      "=================================================================\n",
      "Total params: 50,851\n",
      "Trainable params: 50,851\n",
      "Non-trainable params: 0\n",
      "_________________________________________________________________\n"
     ]
    }
   ],
   "source": [
    "model.summary()"
   ]
  },
  {
   "cell_type": "code",
   "execution_count": 21,
   "metadata": {},
   "outputs": [
    {
     "name": "stdout",
     "output_type": "stream",
     "text": [
      "Epoch 1/100\n",
      "12/12 [==============================] - 3s 223ms/step - loss: 0.0085 - val_loss: 0.0513\n",
      "Epoch 2/100\n",
      "12/12 [==============================] - 2s 135ms/step - loss: 0.0021 - val_loss: 0.0205\n",
      "Epoch 3/100\n",
      "12/12 [==============================] - 2s 139ms/step - loss: 8.1539e-04 - val_loss: 0.0204\n",
      "Epoch 4/100\n",
      "12/12 [==============================] - 2s 140ms/step - loss: 3.9867e-04 - val_loss: 0.0206\n",
      "Epoch 5/100\n",
      "12/12 [==============================] - 2s 145ms/step - loss: 3.3037e-04 - val_loss: 0.0192\n",
      "Epoch 6/100\n",
      "12/12 [==============================] - 2s 140ms/step - loss: 3.7130e-04 - val_loss: 0.0186\n",
      "Epoch 7/100\n",
      "12/12 [==============================] - 2s 135ms/step - loss: 3.0386e-04 - val_loss: 0.0184\n",
      "Epoch 8/100\n",
      "12/12 [==============================] - 2s 143ms/step - loss: 3.0973e-04 - val_loss: 0.0177\n",
      "Epoch 9/100\n",
      "12/12 [==============================] - 2s 139ms/step - loss: 2.9858e-04 - val_loss: 0.0173\n",
      "Epoch 10/100\n",
      "12/12 [==============================] - 2s 143ms/step - loss: 2.7647e-04 - val_loss: 0.0169\n",
      "Epoch 11/100\n",
      "12/12 [==============================] - 2s 146ms/step - loss: 2.6438e-04 - val_loss: 0.0165\n",
      "Epoch 12/100\n",
      "12/12 [==============================] - 2s 155ms/step - loss: 2.6622e-04 - val_loss: 0.0160\n",
      "Epoch 13/100\n",
      "12/12 [==============================] - 2s 203ms/step - loss: 2.4228e-04 - val_loss: 0.0155\n",
      "Epoch 14/100\n",
      "12/12 [==============================] - 2s 199ms/step - loss: 2.3979e-04 - val_loss: 0.0149\n",
      "Epoch 15/100\n",
      "12/12 [==============================] - 2s 163ms/step - loss: 2.4028e-04 - val_loss: 0.0155\n",
      "Epoch 16/100\n",
      "12/12 [==============================] - 2s 186ms/step - loss: 2.4309e-04 - val_loss: 0.0147\n",
      "Epoch 17/100\n",
      "12/12 [==============================] - 2s 199ms/step - loss: 2.1315e-04 - val_loss: 0.0138\n",
      "Epoch 18/100\n",
      "12/12 [==============================] - 3s 233ms/step - loss: 2.2262e-04 - val_loss: 0.0149\n",
      "Epoch 19/100\n",
      "12/12 [==============================] - 3s 258ms/step - loss: 2.0086e-04 - val_loss: 0.0139\n",
      "Epoch 20/100\n",
      "12/12 [==============================] - 2s 203ms/step - loss: 2.0664e-04 - val_loss: 0.0151\n",
      "Epoch 21/100\n",
      "12/12 [==============================] - 2s 156ms/step - loss: 2.0077e-04 - val_loss: 0.0136\n",
      "Epoch 22/100\n",
      "12/12 [==============================] - 2s 147ms/step - loss: 2.2269e-04 - val_loss: 0.0148\n",
      "Epoch 23/100\n",
      "12/12 [==============================] - 2s 148ms/step - loss: 1.9849e-04 - val_loss: 0.0142\n",
      "Epoch 24/100\n",
      "12/12 [==============================] - 2s 152ms/step - loss: 1.9647e-04 - val_loss: 0.0148\n",
      "Epoch 25/100\n",
      "12/12 [==============================] - 2s 151ms/step - loss: 2.0106e-04 - val_loss: 0.0144\n",
      "Epoch 26/100\n",
      "12/12 [==============================] - 2s 167ms/step - loss: 2.0393e-04 - val_loss: 0.0138\n",
      "Epoch 27/100\n",
      "12/12 [==============================] - 2s 159ms/step - loss: 1.8084e-04 - val_loss: 0.0140\n",
      "Epoch 28/100\n",
      "12/12 [==============================] - 2s 172ms/step - loss: 1.8259e-04 - val_loss: 0.0155\n",
      "Epoch 29/100\n",
      "12/12 [==============================] - 2s 169ms/step - loss: 2.0721e-04 - val_loss: 0.0134\n",
      "Epoch 30/100\n",
      "12/12 [==============================] - 2s 193ms/step - loss: 1.9320e-04 - val_loss: 0.0132\n",
      "Epoch 31/100\n",
      "12/12 [==============================] - 2s 201ms/step - loss: 2.0444e-04 - val_loss: 0.0146\n",
      "Epoch 32/100\n",
      "12/12 [==============================] - 2s 166ms/step - loss: 1.8351e-04 - val_loss: 0.0128\n",
      "Epoch 33/100\n",
      "12/12 [==============================] - 2s 163ms/step - loss: 1.7940e-04 - val_loss: 0.0129\n",
      "Epoch 34/100\n",
      "12/12 [==============================] - 2s 173ms/step - loss: 1.7095e-04 - val_loss: 0.0128\n",
      "Epoch 35/100\n",
      "12/12 [==============================] - 2s 159ms/step - loss: 2.4388e-04 - val_loss: 0.0137\n",
      "Epoch 36/100\n",
      "12/12 [==============================] - 2s 154ms/step - loss: 1.8637e-04 - val_loss: 0.0129\n",
      "Epoch 37/100\n",
      "12/12 [==============================] - 2s 149ms/step - loss: 1.7828e-04 - val_loss: 0.0123\n",
      "Epoch 38/100\n",
      "12/12 [==============================] - 2s 149ms/step - loss: 1.7094e-04 - val_loss: 0.0116\n",
      "Epoch 39/100\n",
      "12/12 [==============================] - 2s 147ms/step - loss: 1.9477e-04 - val_loss: 0.0126\n",
      "Epoch 40/100\n",
      "12/12 [==============================] - 2s 139ms/step - loss: 1.8528e-04 - val_loss: 0.0125\n",
      "Epoch 41/100\n",
      "12/12 [==============================] - 2s 138ms/step - loss: 1.7629e-04 - val_loss: 0.0125\n",
      "Epoch 42/100\n",
      "12/12 [==============================] - 2s 136ms/step - loss: 1.6802e-04 - val_loss: 0.0139\n",
      "Epoch 43/100\n",
      "12/12 [==============================] - 2s 142ms/step - loss: 1.9674e-04 - val_loss: 0.0143\n",
      "Epoch 44/100\n",
      "12/12 [==============================] - 2s 149ms/step - loss: 1.7496e-04 - val_loss: 0.0127\n",
      "Epoch 45/100\n",
      "12/12 [==============================] - 2s 133ms/step - loss: 1.6049e-04 - val_loss: 0.0134\n",
      "Epoch 46/100\n",
      "12/12 [==============================] - 2s 134ms/step - loss: 1.5332e-04 - val_loss: 0.0131\n",
      "Epoch 47/100\n",
      "12/12 [==============================] - 2s 143ms/step - loss: 1.5363e-04 - val_loss: 0.0135\n",
      "Epoch 48/100\n",
      "12/12 [==============================] - 2s 138ms/step - loss: 1.6034e-04 - val_loss: 0.0138\n",
      "Epoch 49/100\n",
      "12/12 [==============================] - 2s 161ms/step - loss: 1.6146e-04 - val_loss: 0.0125\n",
      "Epoch 50/100\n",
      "12/12 [==============================] - 2s 138ms/step - loss: 1.5656e-04 - val_loss: 0.0130\n",
      "Epoch 51/100\n",
      "12/12 [==============================] - 2s 146ms/step - loss: 1.5679e-04 - val_loss: 0.0121\n",
      "Epoch 52/100\n",
      "12/12 [==============================] - 2s 143ms/step - loss: 1.5693e-04 - val_loss: 0.0142\n",
      "Epoch 53/100\n",
      "12/12 [==============================] - 2s 162ms/step - loss: 1.6390e-04 - val_loss: 0.0131\n",
      "Epoch 54/100\n",
      "12/12 [==============================] - 2s 148ms/step - loss: 1.5115e-04 - val_loss: 0.0116\n",
      "Epoch 55/100\n",
      "12/12 [==============================] - 2s 177ms/step - loss: 1.5944e-04 - val_loss: 0.0125\n",
      "Epoch 56/100\n",
      "12/12 [==============================] - 2s 148ms/step - loss: 1.5754e-04 - val_loss: 0.0121\n",
      "Epoch 57/100\n",
      "12/12 [==============================] - 2s 148ms/step - loss: 1.5939e-04 - val_loss: 0.0121\n",
      "Epoch 58/100\n",
      "12/12 [==============================] - 2s 140ms/step - loss: 1.5307e-04 - val_loss: 0.0140\n",
      "Epoch 59/100\n",
      "12/12 [==============================] - 2s 133ms/step - loss: 1.5109e-04 - val_loss: 0.0129\n",
      "Epoch 60/100\n",
      "12/12 [==============================] - 2s 132ms/step - loss: 1.3770e-04 - val_loss: 0.0107\n",
      "Epoch 61/100\n",
      "12/12 [==============================] - 2s 132ms/step - loss: 1.6160e-04 - val_loss: 0.0173\n",
      "Epoch 62/100\n",
      "12/12 [==============================] - 2s 130ms/step - loss: 1.6374e-04 - val_loss: 0.0120\n",
      "Epoch 63/100\n",
      "12/12 [==============================] - 2s 135ms/step - loss: 1.5352e-04 - val_loss: 0.0137\n",
      "Epoch 64/100\n",
      "12/12 [==============================] - 2s 149ms/step - loss: 1.3512e-04 - val_loss: 0.0124\n",
      "Epoch 65/100\n",
      "12/12 [==============================] - 2s 142ms/step - loss: 1.5252e-04 - val_loss: 0.0142\n",
      "Epoch 66/100\n",
      "12/12 [==============================] - 2s 150ms/step - loss: 1.3789e-04 - val_loss: 0.0110\n",
      "Epoch 67/100\n",
      "12/12 [==============================] - 2s 138ms/step - loss: 1.3942e-04 - val_loss: 0.0134\n",
      "Epoch 68/100\n",
      "12/12 [==============================] - 2s 140ms/step - loss: 1.2949e-04 - val_loss: 0.0146\n",
      "Epoch 69/100\n",
      "12/12 [==============================] - 2s 156ms/step - loss: 1.2470e-04 - val_loss: 0.0122\n",
      "Epoch 70/100\n",
      "12/12 [==============================] - 2s 142ms/step - loss: 1.2780e-04 - val_loss: 0.0139\n",
      "Epoch 71/100\n",
      "12/12 [==============================] - 2s 143ms/step - loss: 1.2105e-04 - val_loss: 0.0165\n",
      "Epoch 72/100\n",
      "12/12 [==============================] - 2s 140ms/step - loss: 1.2119e-04 - val_loss: 0.0138\n",
      "Epoch 73/100\n",
      "12/12 [==============================] - 2s 142ms/step - loss: 1.3832e-04 - val_loss: 0.0135\n",
      "Epoch 74/100\n",
      "12/12 [==============================] - 2s 141ms/step - loss: 1.2031e-04 - val_loss: 0.0143\n",
      "Epoch 75/100\n",
      "12/12 [==============================] - 2s 140ms/step - loss: 1.2764e-04 - val_loss: 0.0117\n",
      "Epoch 76/100\n",
      "12/12 [==============================] - 2s 137ms/step - loss: 1.2307e-04 - val_loss: 0.0128\n",
      "Epoch 77/100\n",
      "12/12 [==============================] - 2s 140ms/step - loss: 1.1578e-04 - val_loss: 0.0151\n",
      "Epoch 78/100\n"
     ]
    },
    {
     "name": "stdout",
     "output_type": "stream",
     "text": [
      "12/12 [==============================] - 2s 140ms/step - loss: 1.1637e-04 - val_loss: 0.0144\n",
      "Epoch 79/100\n",
      "12/12 [==============================] - 2s 154ms/step - loss: 1.1445e-04 - val_loss: 0.0113\n",
      "Epoch 80/100\n",
      "12/12 [==============================] - 2s 152ms/step - loss: 1.0827e-04 - val_loss: 0.0143\n",
      "Epoch 81/100\n",
      "12/12 [==============================] - 2s 138ms/step - loss: 1.2165e-04 - val_loss: 0.0103\n",
      "Epoch 82/100\n",
      "12/12 [==============================] - 2s 138ms/step - loss: 1.0695e-04 - val_loss: 0.0102\n",
      "Epoch 83/100\n",
      "12/12 [==============================] - 2s 155ms/step - loss: 1.0752e-04 - val_loss: 0.0127\n",
      "Epoch 84/100\n",
      "12/12 [==============================] - 2s 162ms/step - loss: 1.1458e-04 - val_loss: 0.0151\n",
      "Epoch 85/100\n",
      "12/12 [==============================] - 2s 146ms/step - loss: 1.0738e-04 - val_loss: 0.0146\n",
      "Epoch 86/100\n",
      "12/12 [==============================] - 2s 148ms/step - loss: 1.0870e-04 - val_loss: 0.0154\n",
      "Epoch 87/100\n",
      "12/12 [==============================] - 2s 140ms/step - loss: 1.1486e-04 - val_loss: 0.0121\n",
      "Epoch 88/100\n",
      "12/12 [==============================] - 2s 142ms/step - loss: 1.0583e-04 - val_loss: 0.0122\n",
      "Epoch 89/100\n",
      "12/12 [==============================] - 2s 135ms/step - loss: 1.0630e-04 - val_loss: 0.0108\n",
      "Epoch 90/100\n",
      "12/12 [==============================] - 2s 129ms/step - loss: 1.0741e-04 - val_loss: 0.0097\n",
      "Epoch 91/100\n",
      "12/12 [==============================] - 2s 140ms/step - loss: 1.0122e-04 - val_loss: 0.0151\n",
      "Epoch 92/100\n",
      "12/12 [==============================] - 2s 140ms/step - loss: 1.0083e-04 - val_loss: 0.0116\n",
      "Epoch 93/100\n",
      "12/12 [==============================] - 2s 146ms/step - loss: 1.1221e-04 - val_loss: 0.0107\n",
      "Epoch 94/100\n",
      "12/12 [==============================] - 2s 165ms/step - loss: 1.0015e-04 - val_loss: 0.0111\n",
      "Epoch 95/100\n",
      "12/12 [==============================] - 2s 169ms/step - loss: 1.2317e-04 - val_loss: 0.0092\n",
      "Epoch 96/100\n",
      "12/12 [==============================] - 2s 144ms/step - loss: 1.0840e-04 - val_loss: 0.0124\n",
      "Epoch 97/100\n",
      "12/12 [==============================] - 2s 153ms/step - loss: 9.0783e-05 - val_loss: 0.0114\n",
      "Epoch 98/100\n",
      "12/12 [==============================] - 2s 150ms/step - loss: 9.1497e-05 - val_loss: 0.0107\n",
      "Epoch 99/100\n",
      "12/12 [==============================] - 2s 154ms/step - loss: 9.4768e-05 - val_loss: 0.0121\n",
      "Epoch 100/100\n",
      "12/12 [==============================] - 2s 147ms/step - loss: 8.6667e-05 - val_loss: 0.0133\n"
     ]
    },
    {
     "data": {
      "text/plain": [
       "<tensorflow.python.keras.callbacks.History at 0x295507d40b8>"
      ]
     },
     "execution_count": 21,
     "metadata": {},
     "output_type": "execute_result"
    }
   ],
   "source": [
    "model.fit(X_train,y_train,validation_data=(X_test,y_test),epochs=100,batch_size=64,verbose=1)"
   ]
  },
  {
   "cell_type": "code",
   "execution_count": 22,
   "metadata": {},
   "outputs": [
    {
     "data": {
      "text/plain": [
       "'2.2.0'"
      ]
     },
     "execution_count": 22,
     "metadata": {},
     "output_type": "execute_result"
    }
   ],
   "source": [
    "import tensorflow as tf\n",
    "tf.__version__"
   ]
  },
  {
   "cell_type": "code",
   "execution_count": 23,
   "metadata": {},
   "outputs": [],
   "source": [
    "train_predict=model.predict(X_train)\n",
    "test_predict=model.predict(X_test)"
   ]
  },
  {
   "cell_type": "code",
   "execution_count": 24,
   "metadata": {},
   "outputs": [],
   "source": [
    "train_predict=scaler.inverse_transform(train_predict)\n",
    "test_predict=scaler.inverse_transform(test_predict)"
   ]
  },
  {
   "cell_type": "code",
   "execution_count": 25,
   "metadata": {},
   "outputs": [
    {
     "data": {
      "text/plain": [
       "158.96531476870618"
      ]
     },
     "execution_count": 25,
     "metadata": {},
     "output_type": "execute_result"
    }
   ],
   "source": [
    "# Calculate RMSE\n",
    "import math\n",
    "from sklearn.metrics import mean_squared_error\n",
    "math.sqrt(mean_squared_error(y_train,train_predict))"
   ]
  },
  {
   "cell_type": "code",
   "execution_count": 26,
   "metadata": {},
   "outputs": [
    {
     "data": {
      "text/plain": [
       "239.33115456665843"
      ]
     },
     "execution_count": 26,
     "metadata": {},
     "output_type": "execute_result"
    }
   ],
   "source": [
    "# Test Data RMSE\n",
    "math.sqrt(mean_squared_error(y_test,test_predict))"
   ]
  },
  {
   "cell_type": "code",
   "execution_count": 27,
   "metadata": {},
   "outputs": [
    {
     "data": {
      "image/png": "[encoded data removed]",
      "text/plain": [
       "<Figure size 432x288 with 1 Axes>"
      ]
     },
     "metadata": {
      "needs_background": "light"
     },
     "output_type": "display_data"
    }
   ],
   "source": [
    "# green Line => Predicted Data\n",
    "# Orange Line => Training Data\n",
    "# Blue Line => Original Data\n",
    "\n",
    "look_back=100\n",
    "trainPredictPlot = np.empty_like(df1)\n",
    "trainPredictPlot[:, :] = np.nan\n",
    "trainPredictPlot[look_back:len(train_predict)+look_back, :] = train_predict\n",
    "# shift test predictions for plotting\n",
    "testPredictPlot = np.empty_like(df1)\n",
    "testPredictPlot[:, :] = np.nan\n",
    "testPredictPlot[len(train_predict)+(look_back*2)+1:len(df1)-1, :] = test_predict\n",
    "# plot baseline and predictions\n",
    "plt.plot(scaler.inverse_transform(df1))\n",
    "plt.plot(trainPredictPlot)\n",
    "plt.plot(testPredictPlot)\n",
    "plt.show()"
   ]
  },
  {
   "cell_type": "code",
   "execution_count": 28,
   "metadata": {},
   "outputs": [
    {
     "data": {
      "text/plain": [
       "440"
      ]
     },
     "execution_count": 28,
     "metadata": {},
     "output_type": "execute_result"
    }
   ],
   "source": [
    "len(test_data)"
   ]
  },
  {
   "cell_type": "code",
   "execution_count": 35,
   "metadata": {},
   "outputs": [
    {
     "data": {
      "text/plain": [
       "(1, 100)"
      ]
     },
     "execution_count": 35,
     "metadata": {},
     "output_type": "execute_result"
    }
   ],
   "source": [
    "x_input=test_data[340:].reshape(1,-1)\n",
    "x_input.shape"
   ]
  },
  {
   "cell_type": "code",
   "execution_count": 36,
   "metadata": {},
   "outputs": [],
   "source": [
    "temp_input=list(X_input)\n",
    "temp_input=temp_input[0].tolist()"
   ]
  },
  {
   "cell_type": "code",
   "execution_count": 37,
   "metadata": {},
   "outputs": [
    {
     "data": {
      "text/plain": [
       "[0.841635598316296,\n",
       " 0.8785808779314492,\n",
       " 0.8517378232110644,\n",
       " 0.8672760072158752,\n",
       " 0.8350210463018641,\n",
       " 0.8699939867708961,\n",
       " 0.8892363199037885,\n",
       " 0.8882501503307276,\n",
       " 0.8853638003607938,\n",
       " 0.89455201443175,\n",
       " 0.8959470835838845,\n",
       " 0.9206494287432352,\n",
       " 0.9792904389657247,\n",
       " 0.9936019242333134,\n",
       " 0.9836680697534577,\n",
       " 1.0,\n",
       " 0.9854479855682503,\n",
       " 0.983499699338545,\n",
       " 0.09308478653036678,\n",
       " 0.10544798556825014,\n",
       " 0.09876127480457003,\n",
       " 0.07345760673481655,\n",
       " 0.07365003006614551,\n",
       " 0.05407095610342749,\n",
       " 0.06489476849067943,\n",
       " 0.055682501503307225,\n",
       " 0.052098616957306054,\n",
       " 0.0601683704149128,\n",
       " 0.06061334936861096,\n",
       " 0.05241130487071555,\n",
       " 0.04810583283223091,\n",
       " 0.03968731208659049,\n",
       " 0.04748045700541187,\n",
       " 0.05164161154539987,\n",
       " 0.04036079374624174,\n",
       " 0.04300661455201443,\n",
       " 0.05277209861695731,\n",
       " 0.05921828021647624,\n",
       " 0.05712567648827421,\n",
       " 0.06126277811184605,\n",
       " 0.06361996392062536,\n",
       " 0.05455201443174984,\n",
       " 0.062922429344558,\n",
       " 0.05488875526157544,\n",
       " 0.059506915213469624,\n",
       " 0.059242333132892344,\n",
       " 0.06405291641611544,\n",
       " 0.08192423331328924,\n",
       " 0.07398677089597111,\n",
       " 0.07420324714371618,\n",
       " 0.07304870715574258,\n",
       " 0.06898376428141911,\n",
       " 0.061671677690920024,\n",
       " 0.06535177390258567,\n",
       " 0.06381238725195432,\n",
       " 0.06111846061334936,\n",
       " 0.059410703547805144,\n",
       " 0.05943475646422125,\n",
       " 0.06316295850871917,\n",
       " 0.05017438364401683,\n",
       " 0.06008418520745634,\n",
       " 0.04454600120264579,\n",
       " 0.04432952495490078,\n",
       " 0.04834636199639203,\n",
       " 0.05919422730006013,\n",
       " 0.06900781719783522,\n",
       " 0.06819001803968727,\n",
       " 0.062489476849067915,\n",
       " 0.06164762477450386,\n",
       " 0.0701142513529765,\n",
       " 0.0694407696933253,\n",
       " 0.06956103427540589,\n",
       " 0.07206253758268188,\n",
       " 0.06987372218881538,\n",
       " 0.0666025255562237,\n",
       " 0.06806975345760674,\n",
       " 0.0649428743235117,\n",
       " 0.056548406494287384,\n",
       " 0.05972339146121464,\n",
       " 0.06179194227300061,\n",
       " 0.06313890559230306,\n",
       " 0.06905592303066743,\n",
       " 0.07788334335538183,\n",
       " 0.07874924834636199,\n",
       " 0.07841250751653633,\n",
       " 0.07675285628382439,\n",
       " 0.08036079374624172,\n",
       " 0.08187612748045697,\n",
       " 0.07562236921226695,\n",
       " 0.0791340950090198,\n",
       " 0.07713770294648226,\n",
       " 0.07562236921226695,\n",
       " 0.0902946482260974,\n",
       " 0.0901262778111846,\n",
       " 0.09226698737221883,\n",
       " 0.08734816596512324,\n",
       " 0.0911365003006614,\n",
       " 0.09991581479254358,\n",
       " 0.09770294648226097,\n",
       " 0.10013229104028859]"
      ]
     },
     "execution_count": 37,
     "metadata": {},
     "output_type": "execute_result"
    }
   ],
   "source": [
    "temp_input"
   ]
  },
  {
   "cell_type": "code",
   "execution_count": 39,
   "metadata": {},
   "outputs": [
    {
     "name": "stdout",
     "output_type": "stream",
     "text": [
      "[0.09466367]\n",
      "101\n",
      "1 day input [0.87858088 0.85173782 0.86727601 0.83502105 0.86999399 0.88923632\n",
      " 0.88825015 0.8853638  0.89455201 0.89594708 0.92064943 0.97929044\n",
      " 0.99360192 0.98366807 1.         0.98544799 0.9834997  0.09308479\n",
      " 0.10544799 0.09876127 0.07345761 0.07365003 0.05407096 0.06489477\n",
      " 0.0556825  0.05209862 0.06016837 0.06061335 0.0524113  0.04810583\n",
      " 0.03968731 0.04748046 0.05164161 0.04036079 0.04300661 0.0527721\n",
      " 0.05921828 0.05712568 0.06126278 0.06361996 0.05455201 0.06292243\n",
      " 0.05488876 0.05950692 0.05924233 0.06405292 0.08192423 0.07398677\n",
      " 0.07420325 0.07304871 0.06898376 0.06167168 0.06535177 0.06381239\n",
      " 0.06111846 0.0594107  0.05943476 0.06316296 0.05017438 0.06008419\n",
      " 0.044546   0.04432952 0.04834636 0.05919423 0.06900782 0.06819002\n",
      " 0.06248948 0.06164762 0.07011425 0.06944077 0.06956103 0.07206254\n",
      " 0.06987372 0.06660253 0.06806975 0.06494287 0.05654841 0.05972339\n",
      " 0.06179194 0.06313891 0.06905592 0.07788334 0.07874925 0.07841251\n",
      " 0.07675286 0.08036079 0.08187613 0.07562237 0.0791341  0.0771377\n",
      " 0.07562237 0.09029465 0.09012628 0.09226699 0.08734817 0.0911365\n",
      " 0.09991581 0.09770295 0.10013229 0.09466367]\n",
      "1 day output [[0.09634129]]\n",
      "2 day input [0.85173782 0.86727601 0.83502105 0.86999399 0.88923632 0.88825015\n",
      " 0.8853638  0.89455201 0.89594708 0.92064943 0.97929044 0.99360192\n",
      " 0.98366807 1.         0.98544799 0.9834997  0.09308479 0.10544799\n",
      " 0.09876127 0.07345761 0.07365003 0.05407096 0.06489477 0.0556825\n",
      " 0.05209862 0.06016837 0.06061335 0.0524113  0.04810583 0.03968731\n",
      " 0.04748046 0.05164161 0.04036079 0.04300661 0.0527721  0.05921828\n",
      " 0.05712568 0.06126278 0.06361996 0.05455201 0.06292243 0.05488876\n",
      " 0.05950692 0.05924233 0.06405292 0.08192423 0.07398677 0.07420325\n",
      " 0.07304871 0.06898376 0.06167168 0.06535177 0.06381239 0.06111846\n",
      " 0.0594107  0.05943476 0.06316296 0.05017438 0.06008419 0.044546\n",
      " 0.04432952 0.04834636 0.05919423 0.06900782 0.06819002 0.06248948\n",
      " 0.06164762 0.07011425 0.06944077 0.06956103 0.07206254 0.06987372\n",
      " 0.06660253 0.06806975 0.06494287 0.05654841 0.05972339 0.06179194\n",
      " 0.06313891 0.06905592 0.07788334 0.07874925 0.07841251 0.07675286\n",
      " 0.08036079 0.08187613 0.07562237 0.0791341  0.0771377  0.07562237\n",
      " 0.09029465 0.09012628 0.09226699 0.08734817 0.0911365  0.09991581\n",
      " 0.09770295 0.10013229 0.09466367 0.09634129]\n",
      "2 day output [[0.09724987]]\n",
      "3 day input [0.86727601 0.83502105 0.86999399 0.88923632 0.88825015 0.8853638\n",
      " 0.89455201 0.89594708 0.92064943 0.97929044 0.99360192 0.98366807\n",
      " 1.         0.98544799 0.9834997  0.09308479 0.10544799 0.09876127\n",
      " 0.07345761 0.07365003 0.05407096 0.06489477 0.0556825  0.05209862\n",
      " 0.06016837 0.06061335 0.0524113  0.04810583 0.03968731 0.04748046\n",
      " 0.05164161 0.04036079 0.04300661 0.0527721  0.05921828 0.05712568\n",
      " 0.06126278 0.06361996 0.05455201 0.06292243 0.05488876 0.05950692\n",
      " 0.05924233 0.06405292 0.08192423 0.07398677 0.07420325 0.07304871\n",
      " 0.06898376 0.06167168 0.06535177 0.06381239 0.06111846 0.0594107\n",
      " 0.05943476 0.06316296 0.05017438 0.06008419 0.044546   0.04432952\n",
      " 0.04834636 0.05919423 0.06900782 0.06819002 0.06248948 0.06164762\n",
      " 0.07011425 0.06944077 0.06956103 0.07206254 0.06987372 0.06660253\n",
      " 0.06806975 0.06494287 0.05654841 0.05972339 0.06179194 0.06313891\n",
      " 0.06905592 0.07788334 0.07874925 0.07841251 0.07675286 0.08036079\n",
      " 0.08187613 0.07562237 0.0791341  0.0771377  0.07562237 0.09029465\n",
      " 0.09012628 0.09226699 0.08734817 0.0911365  0.09991581 0.09770295\n",
      " 0.10013229 0.09466367 0.09634129 0.09724987]\n",
      "3 day output [[0.0976039]]\n",
      "4 day input [0.83502105 0.86999399 0.88923632 0.88825015 0.8853638  0.89455201\n",
      " 0.89594708 0.92064943 0.97929044 0.99360192 0.98366807 1.\n",
      " 0.98544799 0.9834997  0.09308479 0.10544799 0.09876127 0.07345761\n",
      " 0.07365003 0.05407096 0.06489477 0.0556825  0.05209862 0.06016837\n",
      " 0.06061335 0.0524113  0.04810583 0.03968731 0.04748046 0.05164161\n",
      " 0.04036079 0.04300661 0.0527721  0.05921828 0.05712568 0.06126278\n",
      " 0.06361996 0.05455201 0.06292243 0.05488876 0.05950692 0.05924233\n",
      " 0.06405292 0.08192423 0.07398677 0.07420325 0.07304871 0.06898376\n",
      " 0.06167168 0.06535177 0.06381239 0.06111846 0.0594107  0.05943476\n",
      " 0.06316296 0.05017438 0.06008419 0.044546   0.04432952 0.04834636\n",
      " 0.05919423 0.06900782 0.06819002 0.06248948 0.06164762 0.07011425\n",
      " 0.06944077 0.06956103 0.07206254 0.06987372 0.06660253 0.06806975\n",
      " 0.06494287 0.05654841 0.05972339 0.06179194 0.06313891 0.06905592\n",
      " 0.07788334 0.07874925 0.07841251 0.07675286 0.08036079 0.08187613\n",
      " 0.07562237 0.0791341  0.0771377  0.07562237 0.09029465 0.09012628\n",
      " 0.09226699 0.08734817 0.0911365  0.09991581 0.09770295 0.10013229\n",
      " 0.09466367 0.09634129 0.09724987 0.0976039 ]\n",
      "4 day output [[0.09763904]]\n",
      "5 day input [0.86999399 0.88923632 0.88825015 0.8853638  0.89455201 0.89594708\n",
      " 0.92064943 0.97929044 0.99360192 0.98366807 1.         0.98544799\n",
      " 0.9834997  0.09308479 0.10544799 0.09876127 0.07345761 0.07365003\n",
      " 0.05407096 0.06489477 0.0556825  0.05209862 0.06016837 0.06061335\n",
      " 0.0524113  0.04810583 0.03968731 0.04748046 0.05164161 0.04036079\n",
      " 0.04300661 0.0527721  0.05921828 0.05712568 0.06126278 0.06361996\n",
      " 0.05455201 0.06292243 0.05488876 0.05950692 0.05924233 0.06405292\n",
      " 0.08192423 0.07398677 0.07420325 0.07304871 0.06898376 0.06167168\n",
      " 0.06535177 0.06381239 0.06111846 0.0594107  0.05943476 0.06316296\n",
      " 0.05017438 0.06008419 0.044546   0.04432952 0.04834636 0.05919423\n",
      " 0.06900782 0.06819002 0.06248948 0.06164762 0.07011425 0.06944077\n",
      " 0.06956103 0.07206254 0.06987372 0.06660253 0.06806975 0.06494287\n",
      " 0.05654841 0.05972339 0.06179194 0.06313891 0.06905592 0.07788334\n",
      " 0.07874925 0.07841251 0.07675286 0.08036079 0.08187613 0.07562237\n",
      " 0.0791341  0.0771377  0.07562237 0.09029465 0.09012628 0.09226699\n",
      " 0.08734817 0.0911365  0.09991581 0.09770295 0.10013229 0.09466367\n",
      " 0.09634129 0.09724987 0.0976039  0.09763904]\n",
      "5 day output [[0.09753396]]\n",
      "6 day input [0.88923632 0.88825015 0.8853638  0.89455201 0.89594708 0.92064943\n",
      " 0.97929044 0.99360192 0.98366807 1.         0.98544799 0.9834997\n",
      " 0.09308479 0.10544799 0.09876127 0.07345761 0.07365003 0.05407096\n",
      " 0.06489477 0.0556825  0.05209862 0.06016837 0.06061335 0.0524113\n",
      " 0.04810583 0.03968731 0.04748046 0.05164161 0.04036079 0.04300661\n",
      " 0.0527721  0.05921828 0.05712568 0.06126278 0.06361996 0.05455201\n",
      " 0.06292243 0.05488876 0.05950692 0.05924233 0.06405292 0.08192423\n",
      " 0.07398677 0.07420325 0.07304871 0.06898376 0.06167168 0.06535177\n",
      " 0.06381239 0.06111846 0.0594107  0.05943476 0.06316296 0.05017438\n",
      " 0.06008419 0.044546   0.04432952 0.04834636 0.05919423 0.06900782\n",
      " 0.06819002 0.06248948 0.06164762 0.07011425 0.06944077 0.06956103\n",
      " 0.07206254 0.06987372 0.06660253 0.06806975 0.06494287 0.05654841\n",
      " 0.05972339 0.06179194 0.06313891 0.06905592 0.07788334 0.07874925\n",
      " 0.07841251 0.07675286 0.08036079 0.08187613 0.07562237 0.0791341\n",
      " 0.0771377  0.07562237 0.09029465 0.09012628 0.09226699 0.08734817\n",
      " 0.0911365  0.09991581 0.09770295 0.10013229 0.09466367 0.09634129\n",
      " 0.09724987 0.0976039  0.09763904 0.09753396]\n",
      "6 day output [[0.09740077]]\n",
      "7 day input [0.88825015 0.8853638  0.89455201 0.89594708 0.92064943 0.97929044\n",
      " 0.99360192 0.98366807 1.         0.98544799 0.9834997  0.09308479\n",
      " 0.10544799 0.09876127 0.07345761 0.07365003 0.05407096 0.06489477\n",
      " 0.0556825  0.05209862 0.06016837 0.06061335 0.0524113  0.04810583\n",
      " 0.03968731 0.04748046 0.05164161 0.04036079 0.04300661 0.0527721\n",
      " 0.05921828 0.05712568 0.06126278 0.06361996 0.05455201 0.06292243\n",
      " 0.05488876 0.05950692 0.05924233 0.06405292 0.08192423 0.07398677\n",
      " 0.07420325 0.07304871 0.06898376 0.06167168 0.06535177 0.06381239\n",
      " 0.06111846 0.0594107  0.05943476 0.06316296 0.05017438 0.06008419\n",
      " 0.044546   0.04432952 0.04834636 0.05919423 0.06900782 0.06819002\n",
      " 0.06248948 0.06164762 0.07011425 0.06944077 0.06956103 0.07206254\n",
      " 0.06987372 0.06660253 0.06806975 0.06494287 0.05654841 0.05972339\n",
      " 0.06179194 0.06313891 0.06905592 0.07788334 0.07874925 0.07841251\n",
      " 0.07675286 0.08036079 0.08187613 0.07562237 0.0791341  0.0771377\n",
      " 0.07562237 0.09029465 0.09012628 0.09226699 0.08734817 0.0911365\n",
      " 0.09991581 0.09770295 0.10013229 0.09466367 0.09634129 0.09724987\n",
      " 0.0976039  0.09763904 0.09753396 0.09740077]\n",
      "7 day output [[0.0973001]]\n",
      "8 day input [0.8853638  0.89455201 0.89594708 0.92064943 0.97929044 0.99360192\n",
      " 0.98366807 1.         0.98544799 0.9834997  0.09308479 0.10544799\n",
      " 0.09876127 0.07345761 0.07365003 0.05407096 0.06489477 0.0556825\n",
      " 0.05209862 0.06016837 0.06061335 0.0524113  0.04810583 0.03968731\n",
      " 0.04748046 0.05164161 0.04036079 0.04300661 0.0527721  0.05921828\n",
      " 0.05712568 0.06126278 0.06361996 0.05455201 0.06292243 0.05488876\n",
      " 0.05950692 0.05924233 0.06405292 0.08192423 0.07398677 0.07420325\n",
      " 0.07304871 0.06898376 0.06167168 0.06535177 0.06381239 0.06111846\n",
      " 0.0594107  0.05943476 0.06316296 0.05017438 0.06008419 0.044546\n",
      " 0.04432952 0.04834636 0.05919423 0.06900782 0.06819002 0.06248948\n",
      " 0.06164762 0.07011425 0.06944077 0.06956103 0.07206254 0.06987372\n",
      " 0.06660253 0.06806975 0.06494287 0.05654841 0.05972339 0.06179194\n",
      " 0.06313891 0.06905592 0.07788334 0.07874925 0.07841251 0.07675286\n",
      " 0.08036079 0.08187613 0.07562237 0.0791341  0.0771377  0.07562237\n",
      " 0.09029465 0.09012628 0.09226699 0.08734817 0.0911365  0.09991581\n",
      " 0.09770295 0.10013229 0.09466367 0.09634129 0.09724987 0.0976039\n",
      " 0.09763904 0.09753396 0.09740077 0.0973001 ]\n"
     ]
    },
    {
     "name": "stdout",
     "output_type": "stream",
     "text": [
      "8 day output [[0.09726053]]\n",
      "9 day input [0.89455201 0.89594708 0.92064943 0.97929044 0.99360192 0.98366807\n",
      " 1.         0.98544799 0.9834997  0.09308479 0.10544799 0.09876127\n",
      " 0.07345761 0.07365003 0.05407096 0.06489477 0.0556825  0.05209862\n",
      " 0.06016837 0.06061335 0.0524113  0.04810583 0.03968731 0.04748046\n",
      " 0.05164161 0.04036079 0.04300661 0.0527721  0.05921828 0.05712568\n",
      " 0.06126278 0.06361996 0.05455201 0.06292243 0.05488876 0.05950692\n",
      " 0.05924233 0.06405292 0.08192423 0.07398677 0.07420325 0.07304871\n",
      " 0.06898376 0.06167168 0.06535177 0.06381239 0.06111846 0.0594107\n",
      " 0.05943476 0.06316296 0.05017438 0.06008419 0.044546   0.04432952\n",
      " 0.04834636 0.05919423 0.06900782 0.06819002 0.06248948 0.06164762\n",
      " 0.07011425 0.06944077 0.06956103 0.07206254 0.06987372 0.06660253\n",
      " 0.06806975 0.06494287 0.05654841 0.05972339 0.06179194 0.06313891\n",
      " 0.06905592 0.07788334 0.07874925 0.07841251 0.07675286 0.08036079\n",
      " 0.08187613 0.07562237 0.0791341  0.0771377  0.07562237 0.09029465\n",
      " 0.09012628 0.09226699 0.08734817 0.0911365  0.09991581 0.09770295\n",
      " 0.10013229 0.09466367 0.09634129 0.09724987 0.0976039  0.09763904\n",
      " 0.09753396 0.09740077 0.0973001  0.09726053]\n",
      "9 day output [[0.09729324]]\n",
      "10 day input [0.89594708 0.92064943 0.97929044 0.99360192 0.98366807 1.\n",
      " 0.98544799 0.9834997  0.09308479 0.10544799 0.09876127 0.07345761\n",
      " 0.07365003 0.05407096 0.06489477 0.0556825  0.05209862 0.06016837\n",
      " 0.06061335 0.0524113  0.04810583 0.03968731 0.04748046 0.05164161\n",
      " 0.04036079 0.04300661 0.0527721  0.05921828 0.05712568 0.06126278\n",
      " 0.06361996 0.05455201 0.06292243 0.05488876 0.05950692 0.05924233\n",
      " 0.06405292 0.08192423 0.07398677 0.07420325 0.07304871 0.06898376\n",
      " 0.06167168 0.06535177 0.06381239 0.06111846 0.0594107  0.05943476\n",
      " 0.06316296 0.05017438 0.06008419 0.044546   0.04432952 0.04834636\n",
      " 0.05919423 0.06900782 0.06819002 0.06248948 0.06164762 0.07011425\n",
      " 0.06944077 0.06956103 0.07206254 0.06987372 0.06660253 0.06806975\n",
      " 0.06494287 0.05654841 0.05972339 0.06179194 0.06313891 0.06905592\n",
      " 0.07788334 0.07874925 0.07841251 0.07675286 0.08036079 0.08187613\n",
      " 0.07562237 0.0791341  0.0771377  0.07562237 0.09029465 0.09012628\n",
      " 0.09226699 0.08734817 0.0911365  0.09991581 0.09770295 0.10013229\n",
      " 0.09466367 0.09634129 0.09724987 0.0976039  0.09763904 0.09753396\n",
      " 0.09740077 0.0973001  0.09726053 0.09729324]\n",
      "10 day output [[0.09740046]]\n",
      "11 day input [0.92064943 0.97929044 0.99360192 0.98366807 1.         0.98544799\n",
      " 0.9834997  0.09308479 0.10544799 0.09876127 0.07345761 0.07365003\n",
      " 0.05407096 0.06489477 0.0556825  0.05209862 0.06016837 0.06061335\n",
      " 0.0524113  0.04810583 0.03968731 0.04748046 0.05164161 0.04036079\n",
      " 0.04300661 0.0527721  0.05921828 0.05712568 0.06126278 0.06361996\n",
      " 0.05455201 0.06292243 0.05488876 0.05950692 0.05924233 0.06405292\n",
      " 0.08192423 0.07398677 0.07420325 0.07304871 0.06898376 0.06167168\n",
      " 0.06535177 0.06381239 0.06111846 0.0594107  0.05943476 0.06316296\n",
      " 0.05017438 0.06008419 0.044546   0.04432952 0.04834636 0.05919423\n",
      " 0.06900782 0.06819002 0.06248948 0.06164762 0.07011425 0.06944077\n",
      " 0.06956103 0.07206254 0.06987372 0.06660253 0.06806975 0.06494287\n",
      " 0.05654841 0.05972339 0.06179194 0.06313891 0.06905592 0.07788334\n",
      " 0.07874925 0.07841251 0.07675286 0.08036079 0.08187613 0.07562237\n",
      " 0.0791341  0.0771377  0.07562237 0.09029465 0.09012628 0.09226699\n",
      " 0.08734817 0.0911365  0.09991581 0.09770295 0.10013229 0.09466367\n",
      " 0.09634129 0.09724987 0.0976039  0.09763904 0.09753396 0.09740077\n",
      " 0.0973001  0.09726053 0.09729324 0.09740046]\n",
      "11 day output [[0.09758006]]\n",
      "12 day input [0.97929044 0.99360192 0.98366807 1.         0.98544799 0.9834997\n",
      " 0.09308479 0.10544799 0.09876127 0.07345761 0.07365003 0.05407096\n",
      " 0.06489477 0.0556825  0.05209862 0.06016837 0.06061335 0.0524113\n",
      " 0.04810583 0.03968731 0.04748046 0.05164161 0.04036079 0.04300661\n",
      " 0.0527721  0.05921828 0.05712568 0.06126278 0.06361996 0.05455201\n",
      " 0.06292243 0.05488876 0.05950692 0.05924233 0.06405292 0.08192423\n",
      " 0.07398677 0.07420325 0.07304871 0.06898376 0.06167168 0.06535177\n",
      " 0.06381239 0.06111846 0.0594107  0.05943476 0.06316296 0.05017438\n",
      " 0.06008419 0.044546   0.04432952 0.04834636 0.05919423 0.06900782\n",
      " 0.06819002 0.06248948 0.06164762 0.07011425 0.06944077 0.06956103\n",
      " 0.07206254 0.06987372 0.06660253 0.06806975 0.06494287 0.05654841\n",
      " 0.05972339 0.06179194 0.06313891 0.06905592 0.07788334 0.07874925\n",
      " 0.07841251 0.07675286 0.08036079 0.08187613 0.07562237 0.0791341\n",
      " 0.0771377  0.07562237 0.09029465 0.09012628 0.09226699 0.08734817\n",
      " 0.0911365  0.09991581 0.09770295 0.10013229 0.09466367 0.09634129\n",
      " 0.09724987 0.0976039  0.09763904 0.09753396 0.09740077 0.0973001\n",
      " 0.09726053 0.09729324 0.09740046 0.09758006]\n",
      "12 day output [[0.09782724]]\n",
      "13 day input [0.99360192 0.98366807 1.         0.98544799 0.9834997  0.09308479\n",
      " 0.10544799 0.09876127 0.07345761 0.07365003 0.05407096 0.06489477\n",
      " 0.0556825  0.05209862 0.06016837 0.06061335 0.0524113  0.04810583\n",
      " 0.03968731 0.04748046 0.05164161 0.04036079 0.04300661 0.0527721\n",
      " 0.05921828 0.05712568 0.06126278 0.06361996 0.05455201 0.06292243\n",
      " 0.05488876 0.05950692 0.05924233 0.06405292 0.08192423 0.07398677\n",
      " 0.07420325 0.07304871 0.06898376 0.06167168 0.06535177 0.06381239\n",
      " 0.06111846 0.0594107  0.05943476 0.06316296 0.05017438 0.06008419\n",
      " 0.044546   0.04432952 0.04834636 0.05919423 0.06900782 0.06819002\n",
      " 0.06248948 0.06164762 0.07011425 0.06944077 0.06956103 0.07206254\n",
      " 0.06987372 0.06660253 0.06806975 0.06494287 0.05654841 0.05972339\n",
      " 0.06179194 0.06313891 0.06905592 0.07788334 0.07874925 0.07841251\n",
      " 0.07675286 0.08036079 0.08187613 0.07562237 0.0791341  0.0771377\n",
      " 0.07562237 0.09029465 0.09012628 0.09226699 0.08734817 0.0911365\n",
      " 0.09991581 0.09770295 0.10013229 0.09466367 0.09634129 0.09724987\n",
      " 0.0976039  0.09763904 0.09753396 0.09740077 0.0973001  0.09726053\n",
      " 0.09729324 0.09740046 0.09758006 0.09782724]\n",
      "13 day output [[0.09813529]]\n",
      "14 day input [0.98366807 1.         0.98544799 0.9834997  0.09308479 0.10544799\n",
      " 0.09876127 0.07345761 0.07365003 0.05407096 0.06489477 0.0556825\n",
      " 0.05209862 0.06016837 0.06061335 0.0524113  0.04810583 0.03968731\n",
      " 0.04748046 0.05164161 0.04036079 0.04300661 0.0527721  0.05921828\n",
      " 0.05712568 0.06126278 0.06361996 0.05455201 0.06292243 0.05488876\n",
      " 0.05950692 0.05924233 0.06405292 0.08192423 0.07398677 0.07420325\n",
      " 0.07304871 0.06898376 0.06167168 0.06535177 0.06381239 0.06111846\n",
      " 0.0594107  0.05943476 0.06316296 0.05017438 0.06008419 0.044546\n",
      " 0.04432952 0.04834636 0.05919423 0.06900782 0.06819002 0.06248948\n",
      " 0.06164762 0.07011425 0.06944077 0.06956103 0.07206254 0.06987372\n",
      " 0.06660253 0.06806975 0.06494287 0.05654841 0.05972339 0.06179194\n",
      " 0.06313891 0.06905592 0.07788334 0.07874925 0.07841251 0.07675286\n",
      " 0.08036079 0.08187613 0.07562237 0.0791341  0.0771377  0.07562237\n",
      " 0.09029465 0.09012628 0.09226699 0.08734817 0.0911365  0.09991581\n",
      " 0.09770295 0.10013229 0.09466367 0.09634129 0.09724987 0.0976039\n",
      " 0.09763904 0.09753396 0.09740077 0.0973001  0.09726053 0.09729324\n",
      " 0.09740046 0.09758006 0.09782724 0.09813529]\n",
      "14 day output [[0.09849604]]\n",
      "15 day input [1.         0.98544799 0.9834997  0.09308479 0.10544799 0.09876127\n",
      " 0.07345761 0.07365003 0.05407096 0.06489477 0.0556825  0.05209862\n",
      " 0.06016837 0.06061335 0.0524113  0.04810583 0.03968731 0.04748046\n",
      " 0.05164161 0.04036079 0.04300661 0.0527721  0.05921828 0.05712568\n",
      " 0.06126278 0.06361996 0.05455201 0.06292243 0.05488876 0.05950692\n",
      " 0.05924233 0.06405292 0.08192423 0.07398677 0.07420325 0.07304871\n",
      " 0.06898376 0.06167168 0.06535177 0.06381239 0.06111846 0.0594107\n",
      " 0.05943476 0.06316296 0.05017438 0.06008419 0.044546   0.04432952\n",
      " 0.04834636 0.05919423 0.06900782 0.06819002 0.06248948 0.06164762\n",
      " 0.07011425 0.06944077 0.06956103 0.07206254 0.06987372 0.06660253\n",
      " 0.06806975 0.06494287 0.05654841 0.05972339 0.06179194 0.06313891\n",
      " 0.06905592 0.07788334 0.07874925 0.07841251 0.07675286 0.08036079\n",
      " 0.08187613 0.07562237 0.0791341  0.0771377  0.07562237 0.09029465\n",
      " 0.09012628 0.09226699 0.08734817 0.0911365  0.09991581 0.09770295\n",
      " 0.10013229 0.09466367 0.09634129 0.09724987 0.0976039  0.09763904\n",
      " 0.09753396 0.09740077 0.0973001  0.09726053 0.09729324 0.09740046\n",
      " 0.09758006 0.09782724 0.09813529 0.09849604]\n",
      "15 day output [[0.0989004]]\n",
      "16 day input [0.98544799 0.9834997  0.09308479 0.10544799 0.09876127 0.07345761\n",
      " 0.07365003 0.05407096 0.06489477 0.0556825  0.05209862 0.06016837\n",
      " 0.06061335 0.0524113  0.04810583 0.03968731 0.04748046 0.05164161\n",
      " 0.04036079 0.04300661 0.0527721  0.05921828 0.05712568 0.06126278\n",
      " 0.06361996 0.05455201 0.06292243 0.05488876 0.05950692 0.05924233\n",
      " 0.06405292 0.08192423 0.07398677 0.07420325 0.07304871 0.06898376\n",
      " 0.06167168 0.06535177 0.06381239 0.06111846 0.0594107  0.05943476\n",
      " 0.06316296 0.05017438 0.06008419 0.044546   0.04432952 0.04834636\n",
      " 0.05919423 0.06900782 0.06819002 0.06248948 0.06164762 0.07011425\n",
      " 0.06944077 0.06956103 0.07206254 0.06987372 0.06660253 0.06806975\n",
      " 0.06494287 0.05654841 0.05972339 0.06179194 0.06313891 0.06905592\n",
      " 0.07788334 0.07874925 0.07841251 0.07675286 0.08036079 0.08187613\n",
      " 0.07562237 0.0791341  0.0771377  0.07562237 0.09029465 0.09012628\n",
      " 0.09226699 0.08734817 0.0911365  0.09991581 0.09770295 0.10013229\n",
      " 0.09466367 0.09634129 0.09724987 0.0976039  0.09763904 0.09753396\n",
      " 0.09740077 0.0973001  0.09726053 0.09729324 0.09740046 0.09758006\n",
      " 0.09782724 0.09813529 0.09849604 0.0989004 ]\n"
     ]
    },
    {
     "name": "stdout",
     "output_type": "stream",
     "text": [
      "16 day output [[0.09933881]]\n",
      "17 day input [0.9834997  0.09308479 0.10544799 0.09876127 0.07345761 0.07365003\n",
      " 0.05407096 0.06489477 0.0556825  0.05209862 0.06016837 0.06061335\n",
      " 0.0524113  0.04810583 0.03968731 0.04748046 0.05164161 0.04036079\n",
      " 0.04300661 0.0527721  0.05921828 0.05712568 0.06126278 0.06361996\n",
      " 0.05455201 0.06292243 0.05488876 0.05950692 0.05924233 0.06405292\n",
      " 0.08192423 0.07398677 0.07420325 0.07304871 0.06898376 0.06167168\n",
      " 0.06535177 0.06381239 0.06111846 0.0594107  0.05943476 0.06316296\n",
      " 0.05017438 0.06008419 0.044546   0.04432952 0.04834636 0.05919423\n",
      " 0.06900782 0.06819002 0.06248948 0.06164762 0.07011425 0.06944077\n",
      " 0.06956103 0.07206254 0.06987372 0.06660253 0.06806975 0.06494287\n",
      " 0.05654841 0.05972339 0.06179194 0.06313891 0.06905592 0.07788334\n",
      " 0.07874925 0.07841251 0.07675286 0.08036079 0.08187613 0.07562237\n",
      " 0.0791341  0.0771377  0.07562237 0.09029465 0.09012628 0.09226699\n",
      " 0.08734817 0.0911365  0.09991581 0.09770295 0.10013229 0.09466367\n",
      " 0.09634129 0.09724987 0.0976039  0.09763904 0.09753396 0.09740077\n",
      " 0.0973001  0.09726053 0.09729324 0.09740046 0.09758006 0.09782724\n",
      " 0.09813529 0.09849604 0.0989004  0.09933881]\n",
      "17 day output [[0.09980167]]\n",
      "18 day input [0.09308479 0.10544799 0.09876127 0.07345761 0.07365003 0.05407096\n",
      " 0.06489477 0.0556825  0.05209862 0.06016837 0.06061335 0.0524113\n",
      " 0.04810583 0.03968731 0.04748046 0.05164161 0.04036079 0.04300661\n",
      " 0.0527721  0.05921828 0.05712568 0.06126278 0.06361996 0.05455201\n",
      " 0.06292243 0.05488876 0.05950692 0.05924233 0.06405292 0.08192423\n",
      " 0.07398677 0.07420325 0.07304871 0.06898376 0.06167168 0.06535177\n",
      " 0.06381239 0.06111846 0.0594107  0.05943476 0.06316296 0.05017438\n",
      " 0.06008419 0.044546   0.04432952 0.04834636 0.05919423 0.06900782\n",
      " 0.06819002 0.06248948 0.06164762 0.07011425 0.06944077 0.06956103\n",
      " 0.07206254 0.06987372 0.06660253 0.06806975 0.06494287 0.05654841\n",
      " 0.05972339 0.06179194 0.06313891 0.06905592 0.07788334 0.07874925\n",
      " 0.07841251 0.07675286 0.08036079 0.08187613 0.07562237 0.0791341\n",
      " 0.0771377  0.07562237 0.09029465 0.09012628 0.09226699 0.08734817\n",
      " 0.0911365  0.09991581 0.09770295 0.10013229 0.09466367 0.09634129\n",
      " 0.09724987 0.0976039  0.09763904 0.09753396 0.09740077 0.0973001\n",
      " 0.09726053 0.09729324 0.09740046 0.09758006 0.09782724 0.09813529\n",
      " 0.09849604 0.0989004  0.09933881 0.09980167]\n",
      "18 day output [[0.10027992]]\n",
      "19 day input [0.10544799 0.09876127 0.07345761 0.07365003 0.05407096 0.06489477\n",
      " 0.0556825  0.05209862 0.06016837 0.06061335 0.0524113  0.04810583\n",
      " 0.03968731 0.04748046 0.05164161 0.04036079 0.04300661 0.0527721\n",
      " 0.05921828 0.05712568 0.06126278 0.06361996 0.05455201 0.06292243\n",
      " 0.05488876 0.05950692 0.05924233 0.06405292 0.08192423 0.07398677\n",
      " 0.07420325 0.07304871 0.06898376 0.06167168 0.06535177 0.06381239\n",
      " 0.06111846 0.0594107  0.05943476 0.06316296 0.05017438 0.06008419\n",
      " 0.044546   0.04432952 0.04834636 0.05919423 0.06900782 0.06819002\n",
      " 0.06248948 0.06164762 0.07011425 0.06944077 0.06956103 0.07206254\n",
      " 0.06987372 0.06660253 0.06806975 0.06494287 0.05654841 0.05972339\n",
      " 0.06179194 0.06313891 0.06905592 0.07788334 0.07874925 0.07841251\n",
      " 0.07675286 0.08036079 0.08187613 0.07562237 0.0791341  0.0771377\n",
      " 0.07562237 0.09029465 0.09012628 0.09226699 0.08734817 0.0911365\n",
      " 0.09991581 0.09770295 0.10013229 0.09466367 0.09634129 0.09724987\n",
      " 0.0976039  0.09763904 0.09753396 0.09740077 0.0973001  0.09726053\n",
      " 0.09729324 0.09740046 0.09758006 0.09782724 0.09813529 0.09849604\n",
      " 0.0989004  0.09933881 0.09980167 0.10027992]\n",
      "19 day output [[0.10076524]]\n",
      "20 day input [0.09876127 0.07345761 0.07365003 0.05407096 0.06489477 0.0556825\n",
      " 0.05209862 0.06016837 0.06061335 0.0524113  0.04810583 0.03968731\n",
      " 0.04748046 0.05164161 0.04036079 0.04300661 0.0527721  0.05921828\n",
      " 0.05712568 0.06126278 0.06361996 0.05455201 0.06292243 0.05488876\n",
      " 0.05950692 0.05924233 0.06405292 0.08192423 0.07398677 0.07420325\n",
      " 0.07304871 0.06898376 0.06167168 0.06535177 0.06381239 0.06111846\n",
      " 0.0594107  0.05943476 0.06316296 0.05017438 0.06008419 0.044546\n",
      " 0.04432952 0.04834636 0.05919423 0.06900782 0.06819002 0.06248948\n",
      " 0.06164762 0.07011425 0.06944077 0.06956103 0.07206254 0.06987372\n",
      " 0.06660253 0.06806975 0.06494287 0.05654841 0.05972339 0.06179194\n",
      " 0.06313891 0.06905592 0.07788334 0.07874925 0.07841251 0.07675286\n",
      " 0.08036079 0.08187613 0.07562237 0.0791341  0.0771377  0.07562237\n",
      " 0.09029465 0.09012628 0.09226699 0.08734817 0.0911365  0.09991581\n",
      " 0.09770295 0.10013229 0.09466367 0.09634129 0.09724987 0.0976039\n",
      " 0.09763904 0.09753396 0.09740077 0.0973001  0.09726053 0.09729324\n",
      " 0.09740046 0.09758006 0.09782724 0.09813529 0.09849604 0.0989004\n",
      " 0.09933881 0.09980167 0.10027992 0.10076524]\n",
      "20 day output [[0.1012506]]\n",
      "21 day input [0.07345761 0.07365003 0.05407096 0.06489477 0.0556825  0.05209862\n",
      " 0.06016837 0.06061335 0.0524113  0.04810583 0.03968731 0.04748046\n",
      " 0.05164161 0.04036079 0.04300661 0.0527721  0.05921828 0.05712568\n",
      " 0.06126278 0.06361996 0.05455201 0.06292243 0.05488876 0.05950692\n",
      " 0.05924233 0.06405292 0.08192423 0.07398677 0.07420325 0.07304871\n",
      " 0.06898376 0.06167168 0.06535177 0.06381239 0.06111846 0.0594107\n",
      " 0.05943476 0.06316296 0.05017438 0.06008419 0.044546   0.04432952\n",
      " 0.04834636 0.05919423 0.06900782 0.06819002 0.06248948 0.06164762\n",
      " 0.07011425 0.06944077 0.06956103 0.07206254 0.06987372 0.06660253\n",
      " 0.06806975 0.06494287 0.05654841 0.05972339 0.06179194 0.06313891\n",
      " 0.06905592 0.07788334 0.07874925 0.07841251 0.07675286 0.08036079\n",
      " 0.08187613 0.07562237 0.0791341  0.0771377  0.07562237 0.09029465\n",
      " 0.09012628 0.09226699 0.08734817 0.0911365  0.09991581 0.09770295\n",
      " 0.10013229 0.09466367 0.09634129 0.09724987 0.0976039  0.09763904\n",
      " 0.09753396 0.09740077 0.0973001  0.09726053 0.09729324 0.09740046\n",
      " 0.09758006 0.09782724 0.09813529 0.09849604 0.0989004  0.09933881\n",
      " 0.09980167 0.10027992 0.10076524 0.1012506 ]\n",
      "21 day output [[0.10173026]]\n",
      "22 day input [0.07365003 0.05407096 0.06489477 0.0556825  0.05209862 0.06016837\n",
      " 0.06061335 0.0524113  0.04810583 0.03968731 0.04748046 0.05164161\n",
      " 0.04036079 0.04300661 0.0527721  0.05921828 0.05712568 0.06126278\n",
      " 0.06361996 0.05455201 0.06292243 0.05488876 0.05950692 0.05924233\n",
      " 0.06405292 0.08192423 0.07398677 0.07420325 0.07304871 0.06898376\n",
      " 0.06167168 0.06535177 0.06381239 0.06111846 0.0594107  0.05943476\n",
      " 0.06316296 0.05017438 0.06008419 0.044546   0.04432952 0.04834636\n",
      " 0.05919423 0.06900782 0.06819002 0.06248948 0.06164762 0.07011425\n",
      " 0.06944077 0.06956103 0.07206254 0.06987372 0.06660253 0.06806975\n",
      " 0.06494287 0.05654841 0.05972339 0.06179194 0.06313891 0.06905592\n",
      " 0.07788334 0.07874925 0.07841251 0.07675286 0.08036079 0.08187613\n",
      " 0.07562237 0.0791341  0.0771377  0.07562237 0.09029465 0.09012628\n",
      " 0.09226699 0.08734817 0.0911365  0.09991581 0.09770295 0.10013229\n",
      " 0.09466367 0.09634129 0.09724987 0.0976039  0.09763904 0.09753396\n",
      " 0.09740077 0.0973001  0.09726053 0.09729324 0.09740046 0.09758006\n",
      " 0.09782724 0.09813529 0.09849604 0.0989004  0.09933881 0.09980167\n",
      " 0.10027992 0.10076524 0.1012506  0.10173026]\n",
      "22 day output [[0.10219993]]\n",
      "23 day input [0.05407096 0.06489477 0.0556825  0.05209862 0.06016837 0.06061335\n",
      " 0.0524113  0.04810583 0.03968731 0.04748046 0.05164161 0.04036079\n",
      " 0.04300661 0.0527721  0.05921828 0.05712568 0.06126278 0.06361996\n",
      " 0.05455201 0.06292243 0.05488876 0.05950692 0.05924233 0.06405292\n",
      " 0.08192423 0.07398677 0.07420325 0.07304871 0.06898376 0.06167168\n",
      " 0.06535177 0.06381239 0.06111846 0.0594107  0.05943476 0.06316296\n",
      " 0.05017438 0.06008419 0.044546   0.04432952 0.04834636 0.05919423\n",
      " 0.06900782 0.06819002 0.06248948 0.06164762 0.07011425 0.06944077\n",
      " 0.06956103 0.07206254 0.06987372 0.06660253 0.06806975 0.06494287\n",
      " 0.05654841 0.05972339 0.06179194 0.06313891 0.06905592 0.07788334\n",
      " 0.07874925 0.07841251 0.07675286 0.08036079 0.08187613 0.07562237\n",
      " 0.0791341  0.0771377  0.07562237 0.09029465 0.09012628 0.09226699\n",
      " 0.08734817 0.0911365  0.09991581 0.09770295 0.10013229 0.09466367\n",
      " 0.09634129 0.09724987 0.0976039  0.09763904 0.09753396 0.09740077\n",
      " 0.0973001  0.09726053 0.09729324 0.09740046 0.09758006 0.09782724\n",
      " 0.09813529 0.09849604 0.0989004  0.09933881 0.09980167 0.10027992\n",
      " 0.10076524 0.1012506  0.10173026 0.10219993]\n",
      "23 day output [[0.10265673]]\n",
      "24 day input [0.06489477 0.0556825  0.05209862 0.06016837 0.06061335 0.0524113\n",
      " 0.04810583 0.03968731 0.04748046 0.05164161 0.04036079 0.04300661\n",
      " 0.0527721  0.05921828 0.05712568 0.06126278 0.06361996 0.05455201\n",
      " 0.06292243 0.05488876 0.05950692 0.05924233 0.06405292 0.08192423\n",
      " 0.07398677 0.07420325 0.07304871 0.06898376 0.06167168 0.06535177\n",
      " 0.06381239 0.06111846 0.0594107  0.05943476 0.06316296 0.05017438\n",
      " 0.06008419 0.044546   0.04432952 0.04834636 0.05919423 0.06900782\n",
      " 0.06819002 0.06248948 0.06164762 0.07011425 0.06944077 0.06956103\n",
      " 0.07206254 0.06987372 0.06660253 0.06806975 0.06494287 0.05654841\n",
      " 0.05972339 0.06179194 0.06313891 0.06905592 0.07788334 0.07874925\n",
      " 0.07841251 0.07675286 0.08036079 0.08187613 0.07562237 0.0791341\n",
      " 0.0771377  0.07562237 0.09029465 0.09012628 0.09226699 0.08734817\n",
      " 0.0911365  0.09991581 0.09770295 0.10013229 0.09466367 0.09634129\n",
      " 0.09724987 0.0976039  0.09763904 0.09753396 0.09740077 0.0973001\n",
      " 0.09726053 0.09729324 0.09740046 0.09758006 0.09782724 0.09813529\n",
      " 0.09849604 0.0989004  0.09933881 0.09980167 0.10027992 0.10076524\n",
      " 0.1012506  0.10173026 0.10219993 0.10265673]\n"
     ]
    },
    {
     "name": "stdout",
     "output_type": "stream",
     "text": [
      "24 day output [[0.10309909]]\n",
      "25 day input [0.0556825  0.05209862 0.06016837 0.06061335 0.0524113  0.04810583\n",
      " 0.03968731 0.04748046 0.05164161 0.04036079 0.04300661 0.0527721\n",
      " 0.05921828 0.05712568 0.06126278 0.06361996 0.05455201 0.06292243\n",
      " 0.05488876 0.05950692 0.05924233 0.06405292 0.08192423 0.07398677\n",
      " 0.07420325 0.07304871 0.06898376 0.06167168 0.06535177 0.06381239\n",
      " 0.06111846 0.0594107  0.05943476 0.06316296 0.05017438 0.06008419\n",
      " 0.044546   0.04432952 0.04834636 0.05919423 0.06900782 0.06819002\n",
      " 0.06248948 0.06164762 0.07011425 0.06944077 0.06956103 0.07206254\n",
      " 0.06987372 0.06660253 0.06806975 0.06494287 0.05654841 0.05972339\n",
      " 0.06179194 0.06313891 0.06905592 0.07788334 0.07874925 0.07841251\n",
      " 0.07675286 0.08036079 0.08187613 0.07562237 0.0791341  0.0771377\n",
      " 0.07562237 0.09029465 0.09012628 0.09226699 0.08734817 0.0911365\n",
      " 0.09991581 0.09770295 0.10013229 0.09466367 0.09634129 0.09724987\n",
      " 0.0976039  0.09763904 0.09753396 0.09740077 0.0973001  0.09726053\n",
      " 0.09729324 0.09740046 0.09758006 0.09782724 0.09813529 0.09849604\n",
      " 0.0989004  0.09933881 0.09980167 0.10027992 0.10076524 0.1012506\n",
      " 0.10173026 0.10219993 0.10265673 0.10309909]\n",
      "25 day output [[0.10352664]]\n",
      "26 day input [0.05209862 0.06016837 0.06061335 0.0524113  0.04810583 0.03968731\n",
      " 0.04748046 0.05164161 0.04036079 0.04300661 0.0527721  0.05921828\n",
      " 0.05712568 0.06126278 0.06361996 0.05455201 0.06292243 0.05488876\n",
      " 0.05950692 0.05924233 0.06405292 0.08192423 0.07398677 0.07420325\n",
      " 0.07304871 0.06898376 0.06167168 0.06535177 0.06381239 0.06111846\n",
      " 0.0594107  0.05943476 0.06316296 0.05017438 0.06008419 0.044546\n",
      " 0.04432952 0.04834636 0.05919423 0.06900782 0.06819002 0.06248948\n",
      " 0.06164762 0.07011425 0.06944077 0.06956103 0.07206254 0.06987372\n",
      " 0.06660253 0.06806975 0.06494287 0.05654841 0.05972339 0.06179194\n",
      " 0.06313891 0.06905592 0.07788334 0.07874925 0.07841251 0.07675286\n",
      " 0.08036079 0.08187613 0.07562237 0.0791341  0.0771377  0.07562237\n",
      " 0.09029465 0.09012628 0.09226699 0.08734817 0.0911365  0.09991581\n",
      " 0.09770295 0.10013229 0.09466367 0.09634129 0.09724987 0.0976039\n",
      " 0.09763904 0.09753396 0.09740077 0.0973001  0.09726053 0.09729324\n",
      " 0.09740046 0.09758006 0.09782724 0.09813529 0.09849604 0.0989004\n",
      " 0.09933881 0.09980167 0.10027992 0.10076524 0.1012506  0.10173026\n",
      " 0.10219993 0.10265673 0.10309909 0.10352664]\n",
      "26 day output [[0.10393985]]\n",
      "27 day input [0.06016837 0.06061335 0.0524113  0.04810583 0.03968731 0.04748046\n",
      " 0.05164161 0.04036079 0.04300661 0.0527721  0.05921828 0.05712568\n",
      " 0.06126278 0.06361996 0.05455201 0.06292243 0.05488876 0.05950692\n",
      " 0.05924233 0.06405292 0.08192423 0.07398677 0.07420325 0.07304871\n",
      " 0.06898376 0.06167168 0.06535177 0.06381239 0.06111846 0.0594107\n",
      " 0.05943476 0.06316296 0.05017438 0.06008419 0.044546   0.04432952\n",
      " 0.04834636 0.05919423 0.06900782 0.06819002 0.06248948 0.06164762\n",
      " 0.07011425 0.06944077 0.06956103 0.07206254 0.06987372 0.06660253\n",
      " 0.06806975 0.06494287 0.05654841 0.05972339 0.06179194 0.06313891\n",
      " 0.06905592 0.07788334 0.07874925 0.07841251 0.07675286 0.08036079\n",
      " 0.08187613 0.07562237 0.0791341  0.0771377  0.07562237 0.09029465\n",
      " 0.09012628 0.09226699 0.08734817 0.0911365  0.09991581 0.09770295\n",
      " 0.10013229 0.09466367 0.09634129 0.09724987 0.0976039  0.09763904\n",
      " 0.09753396 0.09740077 0.0973001  0.09726053 0.09729324 0.09740046\n",
      " 0.09758006 0.09782724 0.09813529 0.09849604 0.0989004  0.09933881\n",
      " 0.09980167 0.10027992 0.10076524 0.1012506  0.10173026 0.10219993\n",
      " 0.10265673 0.10309909 0.10352664 0.10393985]\n",
      "27 day output [[0.10434002]]\n",
      "28 day input [0.06061335 0.0524113  0.04810583 0.03968731 0.04748046 0.05164161\n",
      " 0.04036079 0.04300661 0.0527721  0.05921828 0.05712568 0.06126278\n",
      " 0.06361996 0.05455201 0.06292243 0.05488876 0.05950692 0.05924233\n",
      " 0.06405292 0.08192423 0.07398677 0.07420325 0.07304871 0.06898376\n",
      " 0.06167168 0.06535177 0.06381239 0.06111846 0.0594107  0.05943476\n",
      " 0.06316296 0.05017438 0.06008419 0.044546   0.04432952 0.04834636\n",
      " 0.05919423 0.06900782 0.06819002 0.06248948 0.06164762 0.07011425\n",
      " 0.06944077 0.06956103 0.07206254 0.06987372 0.06660253 0.06806975\n",
      " 0.06494287 0.05654841 0.05972339 0.06179194 0.06313891 0.06905592\n",
      " 0.07788334 0.07874925 0.07841251 0.07675286 0.08036079 0.08187613\n",
      " 0.07562237 0.0791341  0.0771377  0.07562237 0.09029465 0.09012628\n",
      " 0.09226699 0.08734817 0.0911365  0.09991581 0.09770295 0.10013229\n",
      " 0.09466367 0.09634129 0.09724987 0.0976039  0.09763904 0.09753396\n",
      " 0.09740077 0.0973001  0.09726053 0.09729324 0.09740046 0.09758006\n",
      " 0.09782724 0.09813529 0.09849604 0.0989004  0.09933881 0.09980167\n",
      " 0.10027992 0.10076524 0.1012506  0.10173026 0.10219993 0.10265673\n",
      " 0.10309909 0.10352664 0.10393985 0.10434002]\n",
      "28 day output [[0.10472897]]\n",
      "29 day input [0.0524113  0.04810583 0.03968731 0.04748046 0.05164161 0.04036079\n",
      " 0.04300661 0.0527721  0.05921828 0.05712568 0.06126278 0.06361996\n",
      " 0.05455201 0.06292243 0.05488876 0.05950692 0.05924233 0.06405292\n",
      " 0.08192423 0.07398677 0.07420325 0.07304871 0.06898376 0.06167168\n",
      " 0.06535177 0.06381239 0.06111846 0.0594107  0.05943476 0.06316296\n",
      " 0.05017438 0.06008419 0.044546   0.04432952 0.04834636 0.05919423\n",
      " 0.06900782 0.06819002 0.06248948 0.06164762 0.07011425 0.06944077\n",
      " 0.06956103 0.07206254 0.06987372 0.06660253 0.06806975 0.06494287\n",
      " 0.05654841 0.05972339 0.06179194 0.06313891 0.06905592 0.07788334\n",
      " 0.07874925 0.07841251 0.07675286 0.08036079 0.08187613 0.07562237\n",
      " 0.0791341  0.0771377  0.07562237 0.09029465 0.09012628 0.09226699\n",
      " 0.08734817 0.0911365  0.09991581 0.09770295 0.10013229 0.09466367\n",
      " 0.09634129 0.09724987 0.0976039  0.09763904 0.09753396 0.09740077\n",
      " 0.0973001  0.09726053 0.09729324 0.09740046 0.09758006 0.09782724\n",
      " 0.09813529 0.09849604 0.0989004  0.09933881 0.09980167 0.10027992\n",
      " 0.10076524 0.1012506  0.10173026 0.10219993 0.10265673 0.10309909\n",
      " 0.10352664 0.10393985 0.10434002 0.10472897]\n",
      "29 day output [[0.10510886]]\n",
      "[[0.09466367214918137], [0.09634128957986832], [0.09724986553192139], [0.09760390222072601], [0.0976390391588211], [0.09753396362066269], [0.09740076959133148], [0.09730009734630585], [0.09726052731275558], [0.09729323536157608], [0.09740045666694641], [0.09758006036281586], [0.0978272408246994], [0.09813528507947922], [0.09849604219198227], [0.09890040010213852], [0.09933881461620331], [0.0998016744852066], [0.10027991980314255], [0.10076523572206497], [0.10125059634447098], [0.10173025727272034], [0.10219993442296982], [0.10265672951936722], [0.10309909284114838], [0.10352663695812225], [0.10393984615802765], [0.10434001684188843], [0.10472896695137024], [0.10510885715484619]]\n"
     ]
    }
   ],
   "source": [
    "from numpy import array\n",
    "\n",
    "lst_output=[]\n",
    "n_steps=100\n",
    "i=0\n",
    "while(i<30):\n",
    "    \n",
    "    if(len(temp_input)>100):\n",
    "        #print(temp_input)\n",
    "        x_input=np.array(temp_input[1:])\n",
    "        print(\"{} day input {}\".format(i,x_input))\n",
    "        x_input=x_input.reshape(1,-1)\n",
    "        x_input = x_input.reshape((1, n_steps, 1))\n",
    "        #print(x_input)\n",
    "        yhat = model.predict(x_input, verbose=0)\n",
    "        print(\"{} day output {}\".format(i,yhat))\n",
    "        temp_input.extend(yhat[0].tolist())\n",
    "        temp_input=temp_input[1:]\n",
    "        #print(temp_input)\n",
    "        lst_output.extend(yhat.tolist())\n",
    "        i=i+1\n",
    "    else:\n",
    "        x_input = x_input.reshape((1, n_steps,1))\n",
    "        yhat = model.predict(x_input, verbose=0)\n",
    "        print(yhat[0])\n",
    "        temp_input.extend(yhat[0].tolist())\n",
    "        print(len(temp_input))\n",
    "        lst_output.extend(yhat.tolist())\n",
    "        i=i+1\n",
    "    \n",
    "\n",
    "print(lst_output)"
   ]
  },
  {
   "cell_type": "code",
   "execution_count": 40,
   "metadata": {},
   "outputs": [],
   "source": [
    "day_new=np.arange(1,101)\n",
    "day_pred=np.arange(101,131)"
   ]
  },
  {
   "cell_type": "code",
   "execution_count": 41,
   "metadata": {},
   "outputs": [
    {
     "data": {
      "text/plain": [
       "1257"
      ]
     },
     "execution_count": 41,
     "metadata": {},
     "output_type": "execute_result"
    }
   ],
   "source": [
    "len(df1)"
   ]
  },
  {
   "cell_type": "code",
   "execution_count": 42,
   "metadata": {},
   "outputs": [
    {
     "data": {
      "text/plain": [
       "[<matplotlib.lines.Line2D at 0x295597fe978>]"
      ]
     },
     "execution_count": 42,
     "metadata": {},
     "output_type": "execute_result"
    },
    {
     "data": {
      "image/png": "[encoded data removed]",
      "text/plain": [
       "<Figure size 432x288 with 1 Axes>"
      ]
     },
     "metadata": {
      "needs_background": "light"
     },
     "output_type": "display_data"
    }
   ],
   "source": [
    "plt.plot(day_new,scaler.inverse_transform(df1[1157:]))\n",
    "plt.plot(day_pred,scaler.inverse_transform(lst_output))"
   ]
  },
  {
   "cell_type": "code",
   "execution_count": 43,
   "metadata": {},
   "outputs": [
    {
     "data": {
      "text/plain": [
       "[<matplotlib.lines.Line2D at 0x29559aa12b0>]"
      ]
     },
     "execution_count": 43,
     "metadata": {},
     "output_type": "execute_result"
    },
    {
     "data": {
      "image/png": "[encoded data removed]",
      "text/plain": [
       "<Figure size 432x288 with 1 Axes>"
      ]
     },
     "metadata": {
      "needs_background": "light"
     },
     "output_type": "display_data"
    }
   ],
   "source": [
    "df3=df1.tolist()\n",
    "df3.extend(lst_output)\n",
    "plt.plot(df3[1200:])"
   ]
  },
  {
   "cell_type": "code",
   "execution_count": 44,
   "metadata": {},
   "outputs": [],
   "source": [
    "df3=scaler.inverse_transform(df3).tolist()"
   ]
  },
  {
   "cell_type": "code",
   "execution_count": 45,
   "metadata": {},
   "outputs": [
    {
     "data": {
      "text/plain": [
       "[<matplotlib.lines.Line2D at 0x29559b4f9e8>]"
      ]
     },
     "execution_count": 45,
     "metadata": {},
     "output_type": "execute_result"
    },
    {
     "data": {
      "image/png": "[encoded data removed]",
      "text/plain": [
       "<Figure size 432x288 with 1 Axes>"
      ]
     },
     "metadata": {
      "needs_background": "light"
     },
     "output_type": "display_data"
    }
   ],
   "source": [
    "plt.plot(df3)"
   ]
  }
 ],
 "metadata": {
  "kernelspec": {
   "display_name": "Python 3",
   "language": "python",
   "name": "python3"
  },
  "language_info": {
   "codemirror_mode": {
    "name": "ipython",
    "version": 3
   },
   "file_extension": ".py",
   "mimetype": "text/x-python",
   "name": "python",
   "nbconvert_exporter": "python",
   "pygments_lexer": "ipython3",
   "version": "3.7.3"
  }
 },
 "nbformat": 4,
 "nbformat_minor": 2
}
